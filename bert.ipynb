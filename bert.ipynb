{
  "nbformat": 4,
  "nbformat_minor": 0,
  "metadata": {
    "colab": {
      "provenance": []
    },
    "kernelspec": {
      "name": "python3",
      "display_name": "Python 3"
    },
    "language_info": {
      "name": "python"
    }
  },
  "cells": [
    {
      "cell_type": "code",
      "execution_count": 1,
      "metadata": {
        "colab": {
          "base_uri": "https://localhost:8080/"
        },
        "id": "vS6Au3QilETz",
        "outputId": "df05d930-04c5-4e82-eaed-6945b9ae93d5"
      },
      "outputs": [
        {
          "output_type": "stream",
          "name": "stdout",
          "text": [
            "Requirement already satisfied: transformers in /usr/local/lib/python3.10/dist-packages (4.44.2)\n",
            "Requirement already satisfied: filelock in /usr/local/lib/python3.10/dist-packages (from transformers) (3.16.1)\n",
            "Requirement already satisfied: huggingface-hub<1.0,>=0.23.2 in /usr/local/lib/python3.10/dist-packages (from transformers) (0.24.7)\n",
            "Requirement already satisfied: numpy>=1.17 in /usr/local/lib/python3.10/dist-packages (from transformers) (1.26.4)\n",
            "Requirement already satisfied: packaging>=20.0 in /usr/local/lib/python3.10/dist-packages (from transformers) (24.1)\n",
            "Requirement already satisfied: pyyaml>=5.1 in /usr/local/lib/python3.10/dist-packages (from transformers) (6.0.2)\n",
            "Requirement already satisfied: regex!=2019.12.17 in /usr/local/lib/python3.10/dist-packages (from transformers) (2024.9.11)\n",
            "Requirement already satisfied: requests in /usr/local/lib/python3.10/dist-packages (from transformers) (2.32.3)\n",
            "Requirement already satisfied: safetensors>=0.4.1 in /usr/local/lib/python3.10/dist-packages (from transformers) (0.4.5)\n",
            "Requirement already satisfied: tokenizers<0.20,>=0.19 in /usr/local/lib/python3.10/dist-packages (from transformers) (0.19.1)\n",
            "Requirement already satisfied: tqdm>=4.27 in /usr/local/lib/python3.10/dist-packages (from transformers) (4.66.5)\n",
            "Requirement already satisfied: fsspec>=2023.5.0 in /usr/local/lib/python3.10/dist-packages (from huggingface-hub<1.0,>=0.23.2->transformers) (2024.6.1)\n",
            "Requirement already satisfied: typing-extensions>=3.7.4.3 in /usr/local/lib/python3.10/dist-packages (from huggingface-hub<1.0,>=0.23.2->transformers) (4.12.2)\n",
            "Requirement already satisfied: charset-normalizer<4,>=2 in /usr/local/lib/python3.10/dist-packages (from requests->transformers) (3.3.2)\n",
            "Requirement already satisfied: idna<4,>=2.5 in /usr/local/lib/python3.10/dist-packages (from requests->transformers) (3.10)\n",
            "Requirement already satisfied: urllib3<3,>=1.21.1 in /usr/local/lib/python3.10/dist-packages (from requests->transformers) (2.0.7)\n",
            "Requirement already satisfied: certifi>=2017.4.17 in /usr/local/lib/python3.10/dist-packages (from requests->transformers) (2024.8.30)\n"
          ]
        }
      ],
      "source": [
        "!pip install transformers"
      ]
    },
    {
      "cell_type": "code",
      "source": [
        "import transformers\n",
        "from transformers import pipeline"
      ],
      "metadata": {
        "id": "u2dZkaBhlF9j"
      },
      "execution_count": 2,
      "outputs": []
    },
    {
      "cell_type": "code",
      "source": [
        "# Using the pretrained BERT model for Brazilian Portuguese from neuralmind/bert-base-portuguese-cased\n",
        "mask = pipeline(\"fill-mask\", model=\"neuralmind/bert-base-portuguese-cased\")"
      ],
      "metadata": {
        "colab": {
          "base_uri": "https://localhost:8080/"
        },
        "id": "kNkvEZE9lGWc",
        "outputId": "8d1a557e-36d6-4ddc-833d-432218f6828f"
      },
      "execution_count": 4,
      "outputs": [
        {
          "output_type": "stream",
          "name": "stderr",
          "text": [
            "Some weights of the model checkpoint at neuralmind/bert-base-portuguese-cased were not used when initializing BertForMaskedLM: ['bert.pooler.dense.bias', 'bert.pooler.dense.weight', 'cls.seq_relationship.bias', 'cls.seq_relationship.weight']\n",
            "- This IS expected if you are initializing BertForMaskedLM from the checkpoint of a model trained on another task or with another architecture (e.g. initializing a BertForSequenceClassification model from a BertForPreTraining model).\n",
            "- This IS NOT expected if you are initializing BertForMaskedLM from the checkpoint of a model that you expect to be exactly identical (initializing a BertForSequenceClassification model from a BertForSequenceClassification model).\n"
          ]
        }
      ]
    },
    {
      "cell_type": "code",
      "source": [
        "result = mask(\"Baseado nas [MASK] podemos [MASK] que claramente isso é [MASK].\")\n",
        "for x in range(len(result)):\n",
        "  print(result[x])"
      ],
      "metadata": {
        "colab": {
          "base_uri": "https://localhost:8080/"
        },
        "id": "cRbehPnbleST",
        "outputId": "7c9cb4ef-8041-40a6-857c-e391bc38449a"
      },
      "execution_count": 11,
      "outputs": [
        {
          "output_type": "stream",
          "name": "stdout",
          "text": [
            "[{'score': 0.43264609575271606, 'token': 8375, 'token_str': 'evidências', 'sequence': '[CLS] Baseado nas evidências podemos [MASK] que claramente isso é [MASK]. [SEP]'}, {'score': 0.18285614252090454, 'token': 16076, 'token_str': 'estatísticas', 'sequence': '[CLS] Baseado nas estatísticas podemos [MASK] que claramente isso é [MASK]. [SEP]'}, {'score': 0.06656105816364288, 'token': 5584, 'token_str': 'pesquisas', 'sequence': '[CLS] Baseado nas pesquisas podemos [MASK] que claramente isso é [MASK]. [SEP]'}, {'score': 0.0337534137070179, 'token': 3476, 'token_str': 'informações', 'sequence': '[CLS] Baseado nas informações podemos [MASK] que claramente isso é [MASK]. [SEP]'}, {'score': 0.026560448110103607, 'token': 4255, 'token_str': 'imagens', 'sequence': '[CLS] Baseado nas imagens podemos [MASK] que claramente isso é [MASK]. [SEP]'}]\n",
            "[{'score': 0.21815744042396545, 'token': 792, 'token_str': 'ver', 'sequence': '[CLS] Baseado nas [MASK] podemos ver que claramente isso é [MASK]. [SEP]'}, {'score': 0.1961890608072281, 'token': 4640, 'token_str': 'dizer', 'sequence': '[CLS] Baseado nas [MASK] podemos dizer que claramente isso é [MASK]. [SEP]'}, {'score': 0.18615363538265228, 'token': 11675, 'token_str': 'perceber', 'sequence': '[CLS] Baseado nas [MASK] podemos perceber que claramente isso é [MASK]. [SEP]'}, {'score': 0.10582192987203598, 'token': 12198, 'token_str': 'concluir', 'sequence': '[CLS] Baseado nas [MASK] podemos concluir que claramente isso é [MASK]. [SEP]'}, {'score': 0.10530056059360504, 'token': 11855, 'token_str': 'afirmar', 'sequence': '[CLS] Baseado nas [MASK] podemos afirmar que claramente isso é [MASK]. [SEP]'}]\n",
            "[{'score': 0.2615916132926941, 'token': 3295, 'token_str': 'verdade', 'sequence': '[CLS] Baseado nas [MASK] podemos [MASK] que claramente isso é verdade. [SEP]'}, {'score': 0.2227245718240738, 'token': 2199, 'token_str': 'possível', 'sequence': '[CLS] Baseado nas [MASK] podemos [MASK] que claramente isso é possível. [SEP]'}, {'score': 0.07860542088747025, 'token': 9887, 'token_str': 'impossível', 'sequence': '[CLS] Baseado nas [MASK] podemos [MASK] que claramente isso é impossível. [SEP]'}, {'score': 0.07197043299674988, 'token': 6149, 'token_str': 'verdadeiro', 'sequence': '[CLS] Baseado nas [MASK] podemos [MASK] que claramente isso é verdadeiro. [SEP]'}, {'score': 0.02878011390566826, 'token': 15723, 'token_str': 'errado', 'sequence': '[CLS] Baseado nas [MASK] podemos [MASK] que claramente isso é errado. [SEP]'}]\n"
          ]
        }
      ]
    },
    {
      "cell_type": "code",
      "source": [
        "max_1 = max(result[0], key=lambda x: x['score'])\n",
        "max_2 = max(result[1], key=lambda x: x['score'])\n",
        "max_3 = max(result[2], key=lambda x: x['score'])\n",
        "\n",
        "print(f\"Baseado nas {max_1['token_str']} podemos {max_2['token_str']} que claramente isso é {max_3['token_str']}.\" )"
      ],
      "metadata": {
        "colab": {
          "base_uri": "https://localhost:8080/"
        },
        "id": "n-1KjdmHnIT5",
        "outputId": "d3f0bee4-f74e-4f5d-c059-08bb71e916d9"
      },
      "execution_count": 20,
      "outputs": [
        {
          "output_type": "stream",
          "name": "stdout",
          "text": [
            "Baseado nas evidências podemos ver que claramente isso é verdade.\n"
          ]
        }
      ]
    },
    {
      "cell_type": "code",
      "source": [],
      "metadata": {
        "id": "VHtRfsNVo7yC"
      },
      "execution_count": null,
      "outputs": []
    }
  ]
}